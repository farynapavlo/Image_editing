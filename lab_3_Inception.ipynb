{
  "nbformat": 4,
  "nbformat_minor": 0,
  "metadata": {
    "colab": {
      "name": "Untitled0.ipynb",
      "provenance": []
    },
    "kernelspec": {
      "display_name": "Python 3",
      "name": "python3"
    },
    "language_info": {
      "name": "python"
    }
  },
  "cells": [
    {
      "cell_type": "code",
      "metadata": {
        "id": "6H-G89KsOQPr"
      },
      "source": [
        "import tensorflow as tf\n",
        "import numpy as np\n",
        "import matplotlib.pyplot as plt\n",
        "from keras.models import Model\n",
        "from keras.layers import Input, Conv2D, BatchNormalization, MaxPool2D, Activation, Flatten, Dense, Dropout, GlobalAveragePooling2D\n",
        "import cv2"
      ],
      "execution_count": null,
      "outputs": []
    },
    {
      "cell_type": "code",
      "metadata": {
        "id": "-tDPVditOUVY"
      },
      "source": [
        "(x_train, y_train), (x_test, y_test) = tf.keras.datasets.fashion_mnist.load_data()"
      ],
      "execution_count": null,
      "outputs": []
    },
    {
      "cell_type": "code",
      "metadata": {
        "colab": {
          "base_uri": "https://localhost:8080/"
        },
        "id": "edkADUiDr7YD",
        "outputId": "5e1c8b71-8999-4567-e38c-f8c7f15f22bb"
      },
      "source": [
        "print(\"x_train shape:\", x_train.shape, \"y_train shape:\", y_train.shape)\n",
        "print(\"x_test shape:\", x_test.shape, \"y_test shape:\", y_test.shape)"
      ],
      "execution_count": null,
      "outputs": [
        {
          "output_type": "stream",
          "text": [
            "x_train shape: (60000, 28, 28) y_train shape: (60000,)\n",
            "x_test shape: (10000, 28, 28) y_test shape: (10000,)\n"
          ],
          "name": "stdout"
        }
      ]
    },
    {
      "cell_type": "code",
      "metadata": {
        "id": "phxocgOqpyFf"
      },
      "source": [
        "x_train = list(x_train)\n",
        "for idx, image in enumerate(x_train, 0):\n",
        "  x_train[idx] = cv2.resize(image, (75,75))\n",
        "x_train = np.asarray(x_train)\n",
        "\n",
        "x_test = list(x_test)\n",
        "for idx, image in enumerate(x_test, 0):\n",
        "  x_test[idx] = cv2.resize(image, (75,75))\n",
        "x_test = np.asarray(x_test)"
      ],
      "execution_count": null,
      "outputs": []
    },
    {
      "cell_type": "code",
      "metadata": {
        "id": "jjJ4ArXVqyr9"
      },
      "source": [
        ""
      ],
      "execution_count": null,
      "outputs": []
    },
    {
      "cell_type": "code",
      "metadata": {
        "colab": {
          "base_uri": "https://localhost:8080/"
        },
        "id": "zFCdNLUNOUfm",
        "outputId": "ef192c27-4cb4-4289-e3bf-cf68af7f07d5"
      },
      "source": [
        "print(\"x_train shape:\", x_train.shape, \"y_train shape:\", y_train.shape)"
      ],
      "execution_count": null,
      "outputs": [
        {
          "output_type": "stream",
          "text": [
            "x_train shape: (60000, 75, 75) y_train shape: (60000,)\n"
          ],
          "name": "stdout"
        }
      ]
    },
    {
      "cell_type": "code",
      "metadata": {
        "colab": {
          "base_uri": "https://localhost:8080/",
          "height": 302
        },
        "id": "aLLGcmr1OUkX",
        "outputId": "74def319-661a-41f5-fef6-9def7ad18838"
      },
      "source": [
        "# Define the text labels\n",
        "fashion_mnist_labels = [\"T-shirt/top\",  # index 0\n",
        "                        \"Trouser\",      # index 1\n",
        "                        \"Pullover\",     # index 2 \n",
        "                        \"Dress\",        # index 3 \n",
        "                        \"Coat\",         # index 4\n",
        "                        \"Sandal\",       # index 5\n",
        "                        \"Shirt\",        # index 6 \n",
        "                        \"Sneaker\",      # index 7 \n",
        "                        \"Bag\",          # index 8 \n",
        "                        \"Ankle boot\"]   # index 9\n",
        "\n",
        "# Image index, you can pick any number between 0 and 59,999\n",
        "img_index = 20\n",
        "# y_train contains the lables, ranging from 0 to 9\n",
        "label_index = y_train[img_index]\n",
        "# Print the label, for example 2 Pullover\n",
        "print (\"y = \" + str(label_index) + \" \" +(fashion_mnist_labels[label_index]))\n",
        "# # Show one of the images from the training dataset\n",
        "plt.imshow(x_train[img_index])"
      ],
      "execution_count": null,
      "outputs": [
        {
          "output_type": "stream",
          "text": [
            "y = 3 Dress\n"
          ],
          "name": "stdout"
        },
        {
          "output_type": "execute_result",
          "data": {
            "text/plain": [
              "<matplotlib.image.AxesImage at 0x7f9434905b50>"
            ]
          },
          "metadata": {
            "tags": []
          },
          "execution_count": 62
        },
        {
          "output_type": "display_data",
          "data": {
            "image/png": "[encoded data removed]",
            "text/plain": [
              "<Figure size 432x288 with 1 Axes>"
            ]
          },
          "metadata": {
            "tags": []
          }
        }
      ]
    },
    {
      "cell_type": "code",
      "metadata": {
        "id": "u2H0kkCkOUmS"
      },
      "source": [
        "x_train = x_train.astype('float32') / 255\n",
        "x_test = x_test.astype('float32') / 255"
      ],
      "execution_count": null,
      "outputs": []
    },
    {
      "cell_type": "code",
      "metadata": {
        "colab": {
          "base_uri": "https://localhost:8080/"
        },
        "id": "dtFjldJiO1kH",
        "outputId": "1095f944-e908-4d1b-a2c3-1799617dff76"
      },
      "source": [
        "print(\"Number of train data - \" + str(len(x_train)))\n",
        "print(\"Number of test data - \" + str(len(x_test)))"
      ],
      "execution_count": null,
      "outputs": [
        {
          "output_type": "stream",
          "text": [
            "Number of train data - 60000\n",
            "Number of test data - 10000\n"
          ],
          "name": "stdout"
        }
      ]
    },
    {
      "cell_type": "code",
      "metadata": {
        "colab": {
          "base_uri": "https://localhost:8080/"
        },
        "id": "dfaUQLttO1tW",
        "outputId": "9d871203-b5ba-4a86-c257-5cf4a833a899"
      },
      "source": [
        "# Further break training data into train / validation sets (# put 5000 into validation set and keep remaining 55,000 for train)\n",
        "(x_train, x_valid) = x_train[5000:], x_train[:5000] \n",
        "(y_train, y_valid) = y_train[5000:], y_train[:5000]\n",
        "\n",
        "# Reshape input data from (28, 28) to (28, 28, 1)\n",
        "w, h = 75,75\n",
        "x_train = x_train.reshape(x_train.shape[0], w, h, 1)\n",
        "x_valid = x_valid.reshape(x_valid.shape[0], w, h, 1)\n",
        "x_test = x_test.reshape(x_test.shape[0], w, h, 1)\n",
        "\n",
        "# One-hot encode the labels\n",
        "y_train = tf.keras.utils.to_categorical(y_train, 10)\n",
        "y_valid = tf.keras.utils.to_categorical(y_valid, 10)\n",
        "y_test = tf.keras.utils.to_categorical(y_test, 10)\n",
        "\n",
        "# Print training set shape\n",
        "print(\"x_train shape:\", x_train.shape, \"y_train shape:\", y_train.shape)\n",
        "\n",
        "# Print the number of training, validation, and test datasets\n",
        "print(x_train.shape[0], 'train set')\n",
        "print(x_valid.shape[0], 'validation set')\n",
        "print(x_test.shape[0], 'test set')\n"
      ],
      "execution_count": null,
      "outputs": [
        {
          "output_type": "stream",
          "text": [
            "x_train shape: (50000, 75, 75, 1) y_train shape: (50000, 10)\n",
            "50000 train set\n",
            "5000 validation set\n",
            "10000 test set\n"
          ],
          "name": "stdout"
        }
      ]
    },
    {
      "cell_type": "code",
      "metadata": {
        "colab": {
          "base_uri": "https://localhost:8080/"
        },
        "id": "82zRerz8RXgB",
        "outputId": "31139aa3-dfcb-449a-97ff-684584adfbd0"
      },
      "source": [
        "base_model = tf.keras.applications.InceptionV3(weights=None, \n",
        "                                include_top=False, \n",
        "                                input_shape=x_train[0].shape)\n",
        "base_model.trainable = False\n",
        "\n",
        "add_model = tf.keras.Sequential()\n",
        "add_model.add(base_model)\n",
        "add_model.add(GlobalAveragePooling2D())\n",
        "add_model.add(Dropout(0.5))\n",
        "add_model.add(tf.keras.layers.Dense(2048, activation='tanh'))\n",
        "add_model.add(tf.keras.layers.Dense(1000, activation='tanh'))\n",
        "add_model.add(Dense(10, \n",
        "                    activation='softmax'))\n",
        "\n",
        "model = add_model\n",
        "model.compile(loss='categorical_crossentropy', \n",
        "              optimizer=\"adam\",\n",
        "              metrics=['accuracy'])\n",
        "model.summary()"
      ],
      "execution_count": null,
      "outputs": [
        {
          "output_type": "stream",
          "text": [
            "Model: \"sequential_10\"\n",
            "_________________________________________________________________\n",
            "Layer (type)                 Output Shape              Param #   \n",
            "=================================================================\n",
            "inception_v3 (Functional)    (None, 1, 1, 2048)        21802208  \n",
            "_________________________________________________________________\n",
            "global_average_pooling2d_9 ( (None, 2048)              0         \n",
            "_________________________________________________________________\n",
            "dropout_9 (Dropout)          (None, 2048)              0         \n",
            "_________________________________________________________________\n",
            "dense_24 (Dense)             (None, 2048)              4196352   \n",
            "_________________________________________________________________\n",
            "dense_25 (Dense)             (None, 1000)              2049000   \n",
            "_________________________________________________________________\n",
            "dense_26 (Dense)             (None, 10)                10010     \n",
            "=================================================================\n",
            "Total params: 28,057,570\n",
            "Trainable params: 6,255,362\n",
            "Non-trainable params: 21,802,208\n",
            "_________________________________________________________________\n"
          ],
          "name": "stdout"
        }
      ]
    },
    {
      "cell_type": "code",
      "metadata": {
        "colab": {
          "background_save": true,
          "base_uri": "https://localhost:8080/"
        },
        "id": "i5tZbzGLO11Y",
        "outputId": "cb110a68-2969-43af-db97-5b29bd41b5ab"
      },
      "source": [
        "from keras.callbacks import ModelCheckpoint\n",
        "\n",
        "checkpointer = ModelCheckpoint(filepath='model.weights.best.hdf5', verbose = 1, save_best_only=True)\n",
        "model.fit(x_train,\n",
        "         y_train,\n",
        "         batch_size=64,\n",
        "         epochs=10,\n",
        "         validation_data=(x_valid, y_valid),\n",
        "         callbacks=[checkpointer])"
      ],
      "execution_count": null,
      "outputs": [
        {
          "output_type": "stream",
          "text": [
            "Epoch 1/10\n",
            "860/860 [==============================] - 459s 528ms/step - loss: 1.9523 - accuracy: 0.2406 - val_loss: 1.0917 - val_accuracy: 0.5796\n",
            "\n",
            "Epoch 00001: val_loss improved from inf to 1.09170, saving model to model.weights.best.hdf5\n",
            "Epoch 2/10\n",
            "860/860 [==============================] - 449s 522ms/step - loss: 1.2171 - accuracy: 0.5151 - val_loss: 0.9220 - val_accuracy: 0.6500\n",
            "\n",
            "Epoch 00002: val_loss improved from 1.09170 to 0.92204, saving model to model.weights.best.hdf5\n",
            "Epoch 3/10\n",
            "860/860 [==============================] - 448s 521ms/step - loss: 1.1119 - accuracy: 0.5660 - val_loss: 0.8859 - val_accuracy: 0.6760\n",
            "\n",
            "Epoch 00003: val_loss improved from 0.92204 to 0.88587, saving model to model.weights.best.hdf5\n",
            "Epoch 4/10\n",
            "860/860 [==============================] - 446s 519ms/step - loss: 1.0584 - accuracy: 0.5889 - val_loss: 0.8693 - val_accuracy: 0.6718\n",
            "\n",
            "Epoch 00004: val_loss improved from 0.88587 to 0.86932, saving model to model.weights.best.hdf5\n",
            "Epoch 5/10\n",
            "860/860 [==============================] - 445s 518ms/step - loss: 1.0132 - accuracy: 0.6096 - val_loss: 0.8342 - val_accuracy: 0.6810\n",
            "\n",
            "Epoch 00005: val_loss improved from 0.86932 to 0.83418, saving model to model.weights.best.hdf5\n",
            "Epoch 6/10\n",
            "860/860 [==============================] - 445s 518ms/step - loss: 0.9765 - accuracy: 0.6247 - val_loss: 0.8075 - val_accuracy: 0.7052\n",
            "\n",
            "Epoch 00006: val_loss improved from 0.83418 to 0.80746, saving model to model.weights.best.hdf5\n",
            "Epoch 7/10\n",
            "860/860 [==============================] - 446s 519ms/step - loss: 0.9763 - accuracy: 0.6254 - val_loss: 0.8387 - val_accuracy: 0.6864\n",
            "\n",
            "Epoch 00007: val_loss did not improve from 0.80746\n",
            "Epoch 8/10\n",
            "860/860 [==============================] - 448s 521ms/step - loss: 0.9615 - accuracy: 0.6313 - val_loss: 0.8350 - val_accuracy: 0.7044\n",
            "\n",
            "Epoch 00008: val_loss did not improve from 0.80746\n",
            "Epoch 9/10\n",
            "860/860 [==============================] - 446s 518ms/step - loss: 0.9557 - accuracy: 0.6331 - val_loss: 0.7778 - val_accuracy: 0.7142\n",
            "\n",
            "Epoch 00009: val_loss improved from 0.80746 to 0.77775, saving model to model.weights.best.hdf5\n",
            "Epoch 10/10\n",
            "860/860 [==============================] - 448s 521ms/step - loss: 0.9423 - accuracy: 0.6432 - val_loss: 0.8382 - val_accuracy: 0.6774\n",
            "\n",
            "Epoch 00010: val_loss did not improve from 0.77775\n"
          ],
          "name": "stdout"
        },
        {
          "output_type": "execute_result",
          "data": {
            "text/plain": [
              "<tensorflow.python.keras.callbacks.History at 0x7ff051520350>"
            ]
          },
          "metadata": {
            "tags": []
          },
          "execution_count": 0
        }
      ]
    },
    {
      "cell_type": "code",
      "metadata": {
        "colab": {
          "background_save": true
        },
        "id": "7jCd51TK13XL",
        "outputId": "adacc61f-e2af-4db3-c5e1-49282badade6"
      },
      "source": [
        "base_model = tf.keras.applications.InceptionV3(weights=None, \n",
        "                                include_top=False, \n",
        "                                input_shape=x_train[0].shape)\n",
        "base_model.trainable = False\n",
        "\n",
        "add_model = tf.keras.Sequential()\n",
        "add_model.add(base_model)\n",
        "add_model.add(GlobalAveragePooling2D())\n",
        "add_model.add(Dropout(0.5))\n",
        "add_model.add(tf.keras.layers.Dense(2048, activation='tanh'))\n",
        "add_model.add(tf.keras.layers.Dense(1000, activation='tanh'))\n",
        "add_model.add(tf.keras.layers.Dense(512, activation='tanh'))\n",
        "add_model.add(tf.keras.layers.Dense(240, activation='tanh'))\n",
        "add_model.add(tf.keras.layers.Dense(120, activation='tanh'))\n",
        "add_model.add(tf.keras.layers.Dense(84, activation='tanh'))\n",
        "add_model.add(Dense(10, \n",
        "                    activation='softmax'))\n",
        "\n",
        "model = add_model\n",
        "model.compile(loss='categorical_crossentropy', \n",
        "              optimizer=\"adam\",\n",
        "              metrics=['accuracy'])\n",
        "model.summary()"
      ],
      "execution_count": null,
      "outputs": [
        {
          "output_type": "stream",
          "text": [
            "Model: \"sequential_11\"\n",
            "_________________________________________________________________\n",
            "Layer (type)                 Output Shape              Param #   \n",
            "=================================================================\n",
            "inception_v3 (Functional)    (None, 1, 1, 2048)        21802208  \n",
            "_________________________________________________________________\n",
            "global_average_pooling2d_10  (None, 2048)              0         \n",
            "_________________________________________________________________\n",
            "dropout_10 (Dropout)         (None, 2048)              0         \n",
            "_________________________________________________________________\n",
            "dense_27 (Dense)             (None, 2048)              4196352   \n",
            "_________________________________________________________________\n",
            "dense_28 (Dense)             (None, 1000)              2049000   \n",
            "_________________________________________________________________\n",
            "dense_29 (Dense)             (None, 512)               512512    \n",
            "_________________________________________________________________\n",
            "dense_30 (Dense)             (None, 240)               123120    \n",
            "_________________________________________________________________\n",
            "dense_31 (Dense)             (None, 120)               28920     \n",
            "_________________________________________________________________\n",
            "dense_32 (Dense)             (None, 84)                10164     \n",
            "_________________________________________________________________\n",
            "dense_33 (Dense)             (None, 10)                850       \n",
            "=================================================================\n",
            "Total params: 28,723,126\n",
            "Trainable params: 6,920,918\n",
            "Non-trainable params: 21,802,208\n",
            "_________________________________________________________________\n"
          ],
          "name": "stdout"
        }
      ]
    },
    {
      "cell_type": "code",
      "metadata": {
        "id": "cAqgmycY13Zc"
      },
      "source": [
        "from keras.callbacks import ModelCheckpoint\n",
        "\n",
        "checkpointer = ModelCheckpoint(filepath='model.weights.best.hdf5', verbose = 1, save_best_only=True)\n",
        "model.fit(x_train,\n",
        "         y_train,\n",
        "         batch_size=64,\n",
        "         epochs=10,\n",
        "         validation_data=(x_valid, y_valid),\n",
        "         callbacks=[checkpointer])"
      ],
      "execution_count": null,
      "outputs": []
    },
    {
      "cell_type": "code",
      "metadata": {
        "id": "v7O_4ysJ13dE"
      },
      "source": [
        ""
      ],
      "execution_count": null,
      "outputs": []
    }
  ]
}